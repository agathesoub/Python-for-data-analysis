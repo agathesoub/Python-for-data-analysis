{
  "nbformat": 4,
  "nbformat_minor": 0,
  "metadata": {
    "accelerator": "GPU",
    "colab": {
      "name": "Modeles_ProjetPython.ipynb",
      "provenance": [],
      "collapsed_sections": []
    },
    "kernelspec": {
      "display_name": "Python 3",
      "language": "python",
      "name": "python3"
    },
    "language_info": {
      "codemirror_mode": {
        "name": "ipython",
        "version": 3
      },
      "file_extension": ".py",
      "mimetype": "text/x-python",
      "name": "python",
      "nbconvert_exporter": "python",
      "pygments_lexer": "ipython3",
      "version": "3.8.3"
    }
  },
  "cells": [
    {
      "cell_type": "markdown",
      "metadata": {
        "id": "SSAJYSfVMif0"
      },
      "source": [
        "# 1) Importation des données"
      ]
    },
    {
      "cell_type": "code",
      "metadata": {
        "id": "kO2gq1LxreQq",
        "outputId": "da2db2c3-e230-4902-88d9-2703d1d75efa",
        "colab": {
          "base_uri": "https://localhost:8080/"
        }
      },
      "source": [
        "import pandas as pd\n",
        "import numpy as np\n",
        "from sklearn.externals import joblib\n",
        "from sklearn.model_selection import train_test_split\n",
        "from sklearn.model_selection import learning_curve\n",
        "from sklearn.model_selection import GridSearchCV\n",
        "from sklearn.model_selection import cross_val_score\n",
        "from sklearn.metrics import confusion_matrix\n",
        "from sklearn import tree\n",
        "from sklearn import svm\n",
        "from sklearn.neighbors import KNeighborsClassifier\n",
        "from sklearn.linear_model import LogisticRegression\n",
        "from sklearn.naive_bayes import GaussianNB\n",
        "import matplotlib.pyplot as plt\n",
        "import seaborn as sns\n",
        "import json"
      ],
      "execution_count": 1,
      "outputs": [
        {
          "output_type": "stream",
          "text": [
            "/usr/local/lib/python3.6/dist-packages/sklearn/externals/joblib/__init__.py:15: FutureWarning: sklearn.externals.joblib is deprecated in 0.21 and will be removed in 0.23. Please import this functionality directly from joblib, which can be installed with: pip install joblib. If this warning is raised when loading pickled models, you may need to re-serialize those models with scikit-learn 0.21+.\n",
            "  warnings.warn(msg, category=FutureWarning)\n"
          ],
          "name": "stderr"
        }
      ]
    },
    {
      "cell_type": "code",
      "metadata": {
        "id": "Jv5DqvtOr3tc",
        "colab": {
          "resources": {
            "http://localhost:8080/nbextensions/google.colab/files.js": {
              "data": "Ly8gQ29weXJpZ2h0IDIwMTcgR29vZ2xlIExMQwovLwovLyBMaWNlbnNlZCB1bmRlciB0aGUgQXBhY2hlIExpY2Vuc2UsIFZlcnNpb24gMi4wICh0aGUgIkxpY2Vuc2UiKTsKLy8geW91IG1heSBub3QgdXNlIHRoaXMgZmlsZSBleGNlcHQgaW4gY29tcGxpYW5jZSB3aXRoIHRoZSBMaWNlbnNlLgovLyBZb3UgbWF5IG9idGFpbiBhIGNvcHkgb2YgdGhlIExpY2Vuc2UgYXQKLy8KLy8gICAgICBodHRwOi8vd3d3LmFwYWNoZS5vcmcvbGljZW5zZXMvTElDRU5TRS0yLjAKLy8KLy8gVW5sZXNzIHJlcXVpcmVkIGJ5IGFwcGxpY2FibGUgbGF3IG9yIGFncmVlZCB0byBpbiB3cml0aW5nLCBzb2Z0d2FyZQovLyBkaXN0cmlidXRlZCB1bmRlciB0aGUgTGljZW5zZSBpcyBkaXN0cmlidXRlZCBvbiBhbiAiQVMgSVMiIEJBU0lTLAovLyBXSVRIT1VUIFdBUlJBTlRJRVMgT1IgQ09ORElUSU9OUyBPRiBBTlkgS0lORCwgZWl0aGVyIGV4cHJlc3Mgb3IgaW1wbGllZC4KLy8gU2VlIHRoZSBMaWNlbnNlIGZvciB0aGUgc3BlY2lmaWMgbGFuZ3VhZ2UgZ292ZXJuaW5nIHBlcm1pc3Npb25zIGFuZAovLyBsaW1pdGF0aW9ucyB1bmRlciB0aGUgTGljZW5zZS4KCi8qKgogKiBAZmlsZW92ZXJ2aWV3IEhlbHBlcnMgZm9yIGdvb2dsZS5jb2xhYiBQeXRob24gbW9kdWxlLgogKi8KKGZ1bmN0aW9uKHNjb3BlKSB7CmZ1bmN0aW9uIHNwYW4odGV4dCwgc3R5bGVBdHRyaWJ1dGVzID0ge30pIHsKICBjb25zdCBlbGVtZW50ID0gZG9jdW1lbnQuY3JlYXRlRWxlbWVudCgnc3BhbicpOwogIGVsZW1lbnQudGV4dENvbnRlbnQgPSB0ZXh0OwogIGZvciAoY29uc3Qga2V5IG9mIE9iamVjdC5rZXlzKHN0eWxlQXR0cmlidXRlcykpIHsKICAgIGVsZW1lbnQuc3R5bGVba2V5XSA9IHN0eWxlQXR0cmlidXRlc1trZXldOwogIH0KICByZXR1cm4gZWxlbWVudDsKfQoKLy8gTWF4IG51bWJlciBvZiBieXRlcyB3aGljaCB3aWxsIGJlIHVwbG9hZGVkIGF0IGEgdGltZS4KY29uc3QgTUFYX1BBWUxPQURfU0laRSA9IDEwMCAqIDEwMjQ7CgpmdW5jdGlvbiBfdXBsb2FkRmlsZXMoaW5wdXRJZCwgb3V0cHV0SWQpIHsKICBjb25zdCBzdGVwcyA9IHVwbG9hZEZpbGVzU3RlcChpbnB1dElkLCBvdXRwdXRJZCk7CiAgY29uc3Qgb3V0cHV0RWxlbWVudCA9IGRvY3VtZW50LmdldEVsZW1lbnRCeUlkKG91dHB1dElkKTsKICAvLyBDYWNoZSBzdGVwcyBvbiB0aGUgb3V0cHV0RWxlbWVudCB0byBtYWtlIGl0IGF2YWlsYWJsZSBmb3IgdGhlIG5leHQgY2FsbAogIC8vIHRvIHVwbG9hZEZpbGVzQ29udGludWUgZnJvbSBQeXRob24uCiAgb3V0cHV0RWxlbWVudC5zdGVwcyA9IHN0ZXBzOwoKICByZXR1cm4gX3VwbG9hZEZpbGVzQ29udGludWUob3V0cHV0SWQpOwp9CgovLyBUaGlzIGlzIHJvdWdobHkgYW4gYXN5bmMgZ2VuZXJhdG9yIChub3Qgc3VwcG9ydGVkIGluIHRoZSBicm93c2VyIHlldCksCi8vIHdoZXJlIHRoZXJlIGFyZSBtdWx0aXBsZSBhc3luY2hyb25vdXMgc3RlcHMgYW5kIHRoZSBQeXRob24gc2lkZSBpcyBnb2luZwovLyB0byBwb2xsIGZvciBjb21wbGV0aW9uIG9mIGVhY2ggc3RlcC4KLy8gVGhpcyB1c2VzIGEgUHJvbWlzZSB0byBibG9jayB0aGUgcHl0aG9uIHNpZGUgb24gY29tcGxldGlvbiBvZiBlYWNoIHN0ZXAsCi8vIHRoZW4gcGFzc2VzIHRoZSByZXN1bHQgb2YgdGhlIHByZXZpb3VzIHN0ZXAgYXMgdGhlIGlucHV0IHRvIHRoZSBuZXh0IHN0ZXAuCmZ1bmN0aW9uIF91cGxvYWRGaWxlc0NvbnRpbnVlKG91dHB1dElkKSB7CiAgY29uc3Qgb3V0cHV0RWxlbWVudCA9IGRvY3VtZW50LmdldEVsZW1lbnRCeUlkKG91dHB1dElkKTsKICBjb25zdCBzdGVwcyA9IG91dHB1dEVsZW1lbnQuc3RlcHM7CgogIGNvbnN0IG5leHQgPSBzdGVwcy5uZXh0KG91dHB1dEVsZW1lbnQubGFzdFByb21pc2VWYWx1ZSk7CiAgcmV0dXJuIFByb21pc2UucmVzb2x2ZShuZXh0LnZhbHVlLnByb21pc2UpLnRoZW4oKHZhbHVlKSA9PiB7CiAgICAvLyBDYWNoZSB0aGUgbGFzdCBwcm9taXNlIHZhbHVlIHRvIG1ha2UgaXQgYXZhaWxhYmxlIHRvIHRoZSBuZXh0CiAgICAvLyBzdGVwIG9mIHRoZSBnZW5lcmF0b3IuCiAgICBvdXRwdXRFbGVtZW50Lmxhc3RQcm9taXNlVmFsdWUgPSB2YWx1ZTsKICAgIHJldHVybiBuZXh0LnZhbHVlLnJlc3BvbnNlOwogIH0pOwp9CgovKioKICogR2VuZXJhdG9yIGZ1bmN0aW9uIHdoaWNoIGlzIGNhbGxlZCBiZXR3ZWVuIGVhY2ggYXN5bmMgc3RlcCBvZiB0aGUgdXBsb2FkCiAqIHByb2Nlc3MuCiAqIEBwYXJhbSB7c3RyaW5nfSBpbnB1dElkIEVsZW1lbnQgSUQgb2YgdGhlIGlucHV0IGZpbGUgcGlja2VyIGVsZW1lbnQuCiAqIEBwYXJhbSB7c3RyaW5nfSBvdXRwdXRJZCBFbGVtZW50IElEIG9mIHRoZSBvdXRwdXQgZGlzcGxheS4KICogQHJldHVybiB7IUl0ZXJhYmxlPCFPYmplY3Q+fSBJdGVyYWJsZSBvZiBuZXh0IHN0ZXBzLgogKi8KZnVuY3Rpb24qIHVwbG9hZEZpbGVzU3RlcChpbnB1dElkLCBvdXRwdXRJZCkgewogIGNvbnN0IGlucHV0RWxlbWVudCA9IGRvY3VtZW50LmdldEVsZW1lbnRCeUlkKGlucHV0SWQpOwogIGlucHV0RWxlbWVudC5kaXNhYmxlZCA9IGZhbHNlOwoKICBjb25zdCBvdXRwdXRFbGVtZW50ID0gZG9jdW1lbnQuZ2V0RWxlbWVudEJ5SWQob3V0cHV0SWQpOwogIG91dHB1dEVsZW1lbnQuaW5uZXJIVE1MID0gJyc7CgogIGNvbnN0IHBpY2tlZFByb21pc2UgPSBuZXcgUHJvbWlzZSgocmVzb2x2ZSkgPT4gewogICAgaW5wdXRFbGVtZW50LmFkZEV2ZW50TGlzdGVuZXIoJ2NoYW5nZScsIChlKSA9PiB7CiAgICAgIHJlc29sdmUoZS50YXJnZXQuZmlsZXMpOwogICAgfSk7CiAgfSk7CgogIGNvbnN0IGNhbmNlbCA9IGRvY3VtZW50LmNyZWF0ZUVsZW1lbnQoJ2J1dHRvbicpOwogIGlucHV0RWxlbWVudC5wYXJlbnRFbGVtZW50LmFwcGVuZENoaWxkKGNhbmNlbCk7CiAgY2FuY2VsLnRleHRDb250ZW50ID0gJ0NhbmNlbCB1cGxvYWQnOwogIGNvbnN0IGNhbmNlbFByb21pc2UgPSBuZXcgUHJvbWlzZSgocmVzb2x2ZSkgPT4gewogICAgY2FuY2VsLm9uY2xpY2sgPSAoKSA9PiB7CiAgICAgIHJlc29sdmUobnVsbCk7CiAgICB9OwogIH0pOwoKICAvLyBXYWl0IGZvciB0aGUgdXNlciB0byBwaWNrIHRoZSBmaWxlcy4KICBjb25zdCBmaWxlcyA9IHlpZWxkIHsKICAgIHByb21pc2U6IFByb21pc2UucmFjZShbcGlja2VkUHJvbWlzZSwgY2FuY2VsUHJvbWlzZV0pLAogICAgcmVzcG9uc2U6IHsKICAgICAgYWN0aW9uOiAnc3RhcnRpbmcnLAogICAgfQogIH07CgogIGNhbmNlbC5yZW1vdmUoKTsKCiAgLy8gRGlzYWJsZSB0aGUgaW5wdXQgZWxlbWVudCBzaW5jZSBmdXJ0aGVyIHBpY2tzIGFyZSBub3QgYWxsb3dlZC4KICBpbnB1dEVsZW1lbnQuZGlzYWJsZWQgPSB0cnVlOwoKICBpZiAoIWZpbGVzKSB7CiAgICByZXR1cm4gewogICAgICByZXNwb25zZTogewogICAgICAgIGFjdGlvbjogJ2NvbXBsZXRlJywKICAgICAgfQogICAgfTsKICB9CgogIGZvciAoY29uc3QgZmlsZSBvZiBmaWxlcykgewogICAgY29uc3QgbGkgPSBkb2N1bWVudC5jcmVhdGVFbGVtZW50KCdsaScpOwogICAgbGkuYXBwZW5kKHNwYW4oZmlsZS5uYW1lLCB7Zm9udFdlaWdodDogJ2JvbGQnfSkpOwogICAgbGkuYXBwZW5kKHNwYW4oCiAgICAgICAgYCgke2ZpbGUudHlwZSB8fCAnbi9hJ30pIC0gJHtmaWxlLnNpemV9IGJ5dGVzLCBgICsKICAgICAgICBgbGFzdCBtb2RpZmllZDogJHsKICAgICAgICAgICAgZmlsZS5sYXN0TW9kaWZpZWREYXRlID8gZmlsZS5sYXN0TW9kaWZpZWREYXRlLnRvTG9jYWxlRGF0ZVN0cmluZygpIDoKICAgICAgICAgICAgICAgICAgICAgICAgICAgICAgICAgICAgJ24vYSd9IC0gYCkpOwogICAgY29uc3QgcGVyY2VudCA9IHNwYW4oJzAlIGRvbmUnKTsKICAgIGxpLmFwcGVuZENoaWxkKHBlcmNlbnQpOwoKICAgIG91dHB1dEVsZW1lbnQuYXBwZW5kQ2hpbGQobGkpOwoKICAgIGNvbnN0IGZpbGVEYXRhUHJvbWlzZSA9IG5ldyBQcm9taXNlKChyZXNvbHZlKSA9PiB7CiAgICAgIGNvbnN0IHJlYWRlciA9IG5ldyBGaWxlUmVhZGVyKCk7CiAgICAgIHJlYWRlci5vbmxvYWQgPSAoZSkgPT4gewogICAgICAgIHJlc29sdmUoZS50YXJnZXQucmVzdWx0KTsKICAgICAgfTsKICAgICAgcmVhZGVyLnJlYWRBc0FycmF5QnVmZmVyKGZpbGUpOwogICAgfSk7CiAgICAvLyBXYWl0IGZvciB0aGUgZGF0YSB0byBiZSByZWFkeS4KICAgIGxldCBmaWxlRGF0YSA9IHlpZWxkIHsKICAgICAgcHJvbWlzZTogZmlsZURhdGFQcm9taXNlLAogICAgICByZXNwb25zZTogewogICAgICAgIGFjdGlvbjogJ2NvbnRpbnVlJywKICAgICAgfQogICAgfTsKCiAgICAvLyBVc2UgYSBjaHVua2VkIHNlbmRpbmcgdG8gYXZvaWQgbWVzc2FnZSBzaXplIGxpbWl0cy4gU2VlIGIvNjIxMTU2NjAuCiAgICBsZXQgcG9zaXRpb24gPSAwOwogICAgd2hpbGUgKHBvc2l0aW9uIDwgZmlsZURhdGEuYnl0ZUxlbmd0aCkgewogICAgICBjb25zdCBsZW5ndGggPSBNYXRoLm1pbihmaWxlRGF0YS5ieXRlTGVuZ3RoIC0gcG9zaXRpb24sIE1BWF9QQVlMT0FEX1NJWkUpOwogICAgICBjb25zdCBjaHVuayA9IG5ldyBVaW50OEFycmF5KGZpbGVEYXRhLCBwb3NpdGlvbiwgbGVuZ3RoKTsKICAgICAgcG9zaXRpb24gKz0gbGVuZ3RoOwoKICAgICAgY29uc3QgYmFzZTY0ID0gYnRvYShTdHJpbmcuZnJvbUNoYXJDb2RlLmFwcGx5KG51bGwsIGNodW5rKSk7CiAgICAgIHlpZWxkIHsKICAgICAgICByZXNwb25zZTogewogICAgICAgICAgYWN0aW9uOiAnYXBwZW5kJywKICAgICAgICAgIGZpbGU6IGZpbGUubmFtZSwKICAgICAgICAgIGRhdGE6IGJhc2U2NCwKICAgICAgICB9LAogICAgICB9OwogICAgICBwZXJjZW50LnRleHRDb250ZW50ID0KICAgICAgICAgIGAke01hdGgucm91bmQoKHBvc2l0aW9uIC8gZmlsZURhdGEuYnl0ZUxlbmd0aCkgKiAxMDApfSUgZG9uZWA7CiAgICB9CiAgfQoKICAvLyBBbGwgZG9uZS4KICB5aWVsZCB7CiAgICByZXNwb25zZTogewogICAgICBhY3Rpb246ICdjb21wbGV0ZScsCiAgICB9CiAgfTsKfQoKc2NvcGUuZ29vZ2xlID0gc2NvcGUuZ29vZ2xlIHx8IHt9OwpzY29wZS5nb29nbGUuY29sYWIgPSBzY29wZS5nb29nbGUuY29sYWIgfHwge307CnNjb3BlLmdvb2dsZS5jb2xhYi5fZmlsZXMgPSB7CiAgX3VwbG9hZEZpbGVzLAogIF91cGxvYWRGaWxlc0NvbnRpbnVlLAp9Owp9KShzZWxmKTsK",
              "ok": true,
              "headers": [
                [
                  "content-type",
                  "application/javascript"
                ]
              ],
              "status": 200,
              "status_text": ""
            }
          },
          "base_uri": "https://localhost:8080/",
          "height": 72
        },
        "outputId": "c463c26b-89e4-418d-8830-19aba196eab2"
      },
      "source": [
        "from google.colab import files\r\n",
        "uploaded = files.upload()"
      ],
      "execution_count": 2,
      "outputs": [
        {
          "output_type": "display_data",
          "data": {
            "text/html": [
              "\n",
              "     <input type=\"file\" id=\"files-87f26eb9-cc49-4783-b614-e4ba8de887ec\" name=\"files[]\" multiple disabled\n",
              "        style=\"border:none\" />\n",
              "     <output id=\"result-87f26eb9-cc49-4783-b614-e4ba8de887ec\">\n",
              "      Upload widget is only available when the cell has been executed in the\n",
              "      current browser session. Please rerun this cell to enable.\n",
              "      </output>\n",
              "      <script src=\"/nbextensions/google.colab/files.js\"></script> "
            ],
            "text/plain": [
              "<IPython.core.display.HTML object>"
            ]
          },
          "metadata": {
            "tags": []
          }
        },
        {
          "output_type": "stream",
          "text": [
            "Saving online_shoppers_intention.csv to online_shoppers_intention.csv\n"
          ],
          "name": "stdout"
        }
      ]
    },
    {
      "cell_type": "code",
      "metadata": {
        "id": "3XHohZKJreQw",
        "scrolled": true
      },
      "source": [
        "data = pd.read_csv(\"online_shoppers_intention.csv\")"
      ],
      "execution_count": 3,
      "outputs": []
    },
    {
      "cell_type": "markdown",
      "metadata": {
        "id": "4iAZjHqvreQz"
      },
      "source": [
        "# 2) Analyse du data set et des variables"
      ]
    },
    {
      "cell_type": "code",
      "metadata": {
        "colab": {
          "base_uri": "https://localhost:8080/",
          "height": 0
        },
        "id": "BLMy-uYkreQ1",
        "outputId": "de8cc418-a935-4a8b-8b89-71791f422b69"
      },
      "source": [
        "data.head()"
      ],
      "execution_count": 4,
      "outputs": [
        {
          "output_type": "execute_result",
          "data": {
            "text/html": [
              "<div>\n",
              "<style scoped>\n",
              "    .dataframe tbody tr th:only-of-type {\n",
              "        vertical-align: middle;\n",
              "    }\n",
              "\n",
              "    .dataframe tbody tr th {\n",
              "        vertical-align: top;\n",
              "    }\n",
              "\n",
              "    .dataframe thead th {\n",
              "        text-align: right;\n",
              "    }\n",
              "</style>\n",
              "<table border=\"1\" class=\"dataframe\">\n",
              "  <thead>\n",
              "    <tr style=\"text-align: right;\">\n",
              "      <th></th>\n",
              "      <th>Administrative</th>\n",
              "      <th>Administrative_Duration</th>\n",
              "      <th>Informational</th>\n",
              "      <th>Informational_Duration</th>\n",
              "      <th>ProductRelated</th>\n",
              "      <th>ProductRelated_Duration</th>\n",
              "      <th>BounceRates</th>\n",
              "      <th>ExitRates</th>\n",
              "      <th>PageValues</th>\n",
              "      <th>SpecialDay</th>\n",
              "      <th>Month</th>\n",
              "      <th>OperatingSystems</th>\n",
              "      <th>Browser</th>\n",
              "      <th>Region</th>\n",
              "      <th>TrafficType</th>\n",
              "      <th>VisitorType</th>\n",
              "      <th>Weekend</th>\n",
              "      <th>Revenue</th>\n",
              "    </tr>\n",
              "  </thead>\n",
              "  <tbody>\n",
              "    <tr>\n",
              "      <th>0</th>\n",
              "      <td>0</td>\n",
              "      <td>0.0</td>\n",
              "      <td>0</td>\n",
              "      <td>0.0</td>\n",
              "      <td>1</td>\n",
              "      <td>0.000000</td>\n",
              "      <td>0.20</td>\n",
              "      <td>0.20</td>\n",
              "      <td>0.0</td>\n",
              "      <td>0.0</td>\n",
              "      <td>Feb</td>\n",
              "      <td>1</td>\n",
              "      <td>1</td>\n",
              "      <td>1</td>\n",
              "      <td>1</td>\n",
              "      <td>Returning_Visitor</td>\n",
              "      <td>False</td>\n",
              "      <td>False</td>\n",
              "    </tr>\n",
              "    <tr>\n",
              "      <th>1</th>\n",
              "      <td>0</td>\n",
              "      <td>0.0</td>\n",
              "      <td>0</td>\n",
              "      <td>0.0</td>\n",
              "      <td>2</td>\n",
              "      <td>64.000000</td>\n",
              "      <td>0.00</td>\n",
              "      <td>0.10</td>\n",
              "      <td>0.0</td>\n",
              "      <td>0.0</td>\n",
              "      <td>Feb</td>\n",
              "      <td>2</td>\n",
              "      <td>2</td>\n",
              "      <td>1</td>\n",
              "      <td>2</td>\n",
              "      <td>Returning_Visitor</td>\n",
              "      <td>False</td>\n",
              "      <td>False</td>\n",
              "    </tr>\n",
              "    <tr>\n",
              "      <th>2</th>\n",
              "      <td>0</td>\n",
              "      <td>0.0</td>\n",
              "      <td>0</td>\n",
              "      <td>0.0</td>\n",
              "      <td>1</td>\n",
              "      <td>0.000000</td>\n",
              "      <td>0.20</td>\n",
              "      <td>0.20</td>\n",
              "      <td>0.0</td>\n",
              "      <td>0.0</td>\n",
              "      <td>Feb</td>\n",
              "      <td>4</td>\n",
              "      <td>1</td>\n",
              "      <td>9</td>\n",
              "      <td>3</td>\n",
              "      <td>Returning_Visitor</td>\n",
              "      <td>False</td>\n",
              "      <td>False</td>\n",
              "    </tr>\n",
              "    <tr>\n",
              "      <th>3</th>\n",
              "      <td>0</td>\n",
              "      <td>0.0</td>\n",
              "      <td>0</td>\n",
              "      <td>0.0</td>\n",
              "      <td>2</td>\n",
              "      <td>2.666667</td>\n",
              "      <td>0.05</td>\n",
              "      <td>0.14</td>\n",
              "      <td>0.0</td>\n",
              "      <td>0.0</td>\n",
              "      <td>Feb</td>\n",
              "      <td>3</td>\n",
              "      <td>2</td>\n",
              "      <td>2</td>\n",
              "      <td>4</td>\n",
              "      <td>Returning_Visitor</td>\n",
              "      <td>False</td>\n",
              "      <td>False</td>\n",
              "    </tr>\n",
              "    <tr>\n",
              "      <th>4</th>\n",
              "      <td>0</td>\n",
              "      <td>0.0</td>\n",
              "      <td>0</td>\n",
              "      <td>0.0</td>\n",
              "      <td>10</td>\n",
              "      <td>627.500000</td>\n",
              "      <td>0.02</td>\n",
              "      <td>0.05</td>\n",
              "      <td>0.0</td>\n",
              "      <td>0.0</td>\n",
              "      <td>Feb</td>\n",
              "      <td>3</td>\n",
              "      <td>3</td>\n",
              "      <td>1</td>\n",
              "      <td>4</td>\n",
              "      <td>Returning_Visitor</td>\n",
              "      <td>True</td>\n",
              "      <td>False</td>\n",
              "    </tr>\n",
              "  </tbody>\n",
              "</table>\n",
              "</div>"
            ],
            "text/plain": [
              "   Administrative  Administrative_Duration  ...  Weekend  Revenue\n",
              "0               0                      0.0  ...    False    False\n",
              "1               0                      0.0  ...    False    False\n",
              "2               0                      0.0  ...    False    False\n",
              "3               0                      0.0  ...    False    False\n",
              "4               0                      0.0  ...     True    False\n",
              "\n",
              "[5 rows x 18 columns]"
            ]
          },
          "metadata": {
            "tags": []
          },
          "execution_count": 4
        }
      ]
    },
    {
      "cell_type": "code",
      "metadata": {
        "colab": {
          "base_uri": "https://localhost:8080/"
        },
        "id": "iaPHYGyXv4b2",
        "outputId": "c408727c-12cd-4079-c90a-772c4ecb597c"
      },
      "source": [
        "#Affichage des différentes valeurs présentes dans la colonne des revenues\r\n",
        "data[\"Revenue\"].unique()"
      ],
      "execution_count": 5,
      "outputs": [
        {
          "output_type": "execute_result",
          "data": {
            "text/plain": [
              "array([False,  True])"
            ]
          },
          "metadata": {
            "tags": []
          },
          "execution_count": 5
        }
      ]
    },
    {
      "cell_type": "code",
      "metadata": {
        "colab": {
          "base_uri": "https://localhost:8080/"
        },
        "id": "9cT7Z6vL4j0J",
        "outputId": "a186f369-3ecf-42af-e634-3b556f8666d2"
      },
      "source": [
        "data.shape"
      ],
      "execution_count": 6,
      "outputs": [
        {
          "output_type": "execute_result",
          "data": {
            "text/plain": [
              "(12330, 18)"
            ]
          },
          "metadata": {
            "tags": []
          },
          "execution_count": 6
        }
      ]
    },
    {
      "cell_type": "markdown",
      "metadata": {
        "id": "J1g-LPns3lGV"
      },
      "source": [
        "#3) Preparation des données pour le modèle"
      ]
    },
    {
      "cell_type": "code",
      "metadata": {
        "id": "xMBBGlCvA5M8",
        "outputId": "b7a52259-9af1-4db7-960d-5b2baf38a621",
        "colab": {
          "base_uri": "https://localhost:8080/"
        }
      },
      "source": [
        "#On met la colonne revenu en int (0 pour false 1 pour true)\r\n",
        "data[\"Revenue\"] = data[\"Revenue\"].values.astype(int)\r\n",
        "data.head()\r\n",
        "#Convertir VisitorType en valeur  numérique\r\n",
        "data[\"VisitorType\"] = np.asarray([1 if val == \"Returning_Visitor\" else 0 for val in data[\"VisitorType\"].values])\r\n",
        "#Convertir Month en valeur numérique\r\n",
        "months = [\"Jan\", \"Feb\", \"Mar\", \"Apr\", \"May\", \"June\", \"Jul\", \"Aug\", \"Sep\", \"Oct\", \"Nov\", \"Dec\"]\r\n",
        "for i, val in enumerate(data[\"Month\"]):\r\n",
        "    data[\"Month\"][i] = months.index(val)"
      ],
      "execution_count": 7,
      "outputs": [
        {
          "output_type": "stream",
          "text": [
            "/usr/local/lib/python3.6/dist-packages/ipykernel_launcher.py:9: SettingWithCopyWarning: \n",
            "A value is trying to be set on a copy of a slice from a DataFrame\n",
            "\n",
            "See the caveats in the documentation: https://pandas.pydata.org/pandas-docs/stable/user_guide/indexing.html#returning-a-view-versus-a-copy\n",
            "  if __name__ == '__main__':\n"
          ],
          "name": "stderr"
        }
      ]
    },
    {
      "cell_type": "code",
      "metadata": {
        "colab": {
          "base_uri": "https://localhost:8080/",
          "height": 0
        },
        "id": "OwZVsgnqCAWb",
        "outputId": "fd5e9d61-8071-4395-9b3b-0a793cc83de0"
      },
      "source": [
        "#On met la colonne revenu en int (0 pour false 1 pour true)\r\n",
        "data[\"Weekend\"] = data[\"Weekend\"].values.astype(int)\r\n",
        "data.head()"
      ],
      "execution_count": 8,
      "outputs": [
        {
          "output_type": "execute_result",
          "data": {
            "text/html": [
              "<div>\n",
              "<style scoped>\n",
              "    .dataframe tbody tr th:only-of-type {\n",
              "        vertical-align: middle;\n",
              "    }\n",
              "\n",
              "    .dataframe tbody tr th {\n",
              "        vertical-align: top;\n",
              "    }\n",
              "\n",
              "    .dataframe thead th {\n",
              "        text-align: right;\n",
              "    }\n",
              "</style>\n",
              "<table border=\"1\" class=\"dataframe\">\n",
              "  <thead>\n",
              "    <tr style=\"text-align: right;\">\n",
              "      <th></th>\n",
              "      <th>Administrative</th>\n",
              "      <th>Administrative_Duration</th>\n",
              "      <th>Informational</th>\n",
              "      <th>Informational_Duration</th>\n",
              "      <th>ProductRelated</th>\n",
              "      <th>ProductRelated_Duration</th>\n",
              "      <th>BounceRates</th>\n",
              "      <th>ExitRates</th>\n",
              "      <th>PageValues</th>\n",
              "      <th>SpecialDay</th>\n",
              "      <th>Month</th>\n",
              "      <th>OperatingSystems</th>\n",
              "      <th>Browser</th>\n",
              "      <th>Region</th>\n",
              "      <th>TrafficType</th>\n",
              "      <th>VisitorType</th>\n",
              "      <th>Weekend</th>\n",
              "      <th>Revenue</th>\n",
              "    </tr>\n",
              "  </thead>\n",
              "  <tbody>\n",
              "    <tr>\n",
              "      <th>0</th>\n",
              "      <td>0</td>\n",
              "      <td>0.0</td>\n",
              "      <td>0</td>\n",
              "      <td>0.0</td>\n",
              "      <td>1</td>\n",
              "      <td>0.000000</td>\n",
              "      <td>0.20</td>\n",
              "      <td>0.20</td>\n",
              "      <td>0.0</td>\n",
              "      <td>0.0</td>\n",
              "      <td>1</td>\n",
              "      <td>1</td>\n",
              "      <td>1</td>\n",
              "      <td>1</td>\n",
              "      <td>1</td>\n",
              "      <td>1</td>\n",
              "      <td>0</td>\n",
              "      <td>0</td>\n",
              "    </tr>\n",
              "    <tr>\n",
              "      <th>1</th>\n",
              "      <td>0</td>\n",
              "      <td>0.0</td>\n",
              "      <td>0</td>\n",
              "      <td>0.0</td>\n",
              "      <td>2</td>\n",
              "      <td>64.000000</td>\n",
              "      <td>0.00</td>\n",
              "      <td>0.10</td>\n",
              "      <td>0.0</td>\n",
              "      <td>0.0</td>\n",
              "      <td>1</td>\n",
              "      <td>2</td>\n",
              "      <td>2</td>\n",
              "      <td>1</td>\n",
              "      <td>2</td>\n",
              "      <td>1</td>\n",
              "      <td>0</td>\n",
              "      <td>0</td>\n",
              "    </tr>\n",
              "    <tr>\n",
              "      <th>2</th>\n",
              "      <td>0</td>\n",
              "      <td>0.0</td>\n",
              "      <td>0</td>\n",
              "      <td>0.0</td>\n",
              "      <td>1</td>\n",
              "      <td>0.000000</td>\n",
              "      <td>0.20</td>\n",
              "      <td>0.20</td>\n",
              "      <td>0.0</td>\n",
              "      <td>0.0</td>\n",
              "      <td>1</td>\n",
              "      <td>4</td>\n",
              "      <td>1</td>\n",
              "      <td>9</td>\n",
              "      <td>3</td>\n",
              "      <td>1</td>\n",
              "      <td>0</td>\n",
              "      <td>0</td>\n",
              "    </tr>\n",
              "    <tr>\n",
              "      <th>3</th>\n",
              "      <td>0</td>\n",
              "      <td>0.0</td>\n",
              "      <td>0</td>\n",
              "      <td>0.0</td>\n",
              "      <td>2</td>\n",
              "      <td>2.666667</td>\n",
              "      <td>0.05</td>\n",
              "      <td>0.14</td>\n",
              "      <td>0.0</td>\n",
              "      <td>0.0</td>\n",
              "      <td>1</td>\n",
              "      <td>3</td>\n",
              "      <td>2</td>\n",
              "      <td>2</td>\n",
              "      <td>4</td>\n",
              "      <td>1</td>\n",
              "      <td>0</td>\n",
              "      <td>0</td>\n",
              "    </tr>\n",
              "    <tr>\n",
              "      <th>4</th>\n",
              "      <td>0</td>\n",
              "      <td>0.0</td>\n",
              "      <td>0</td>\n",
              "      <td>0.0</td>\n",
              "      <td>10</td>\n",
              "      <td>627.500000</td>\n",
              "      <td>0.02</td>\n",
              "      <td>0.05</td>\n",
              "      <td>0.0</td>\n",
              "      <td>0.0</td>\n",
              "      <td>1</td>\n",
              "      <td>3</td>\n",
              "      <td>3</td>\n",
              "      <td>1</td>\n",
              "      <td>4</td>\n",
              "      <td>1</td>\n",
              "      <td>1</td>\n",
              "      <td>0</td>\n",
              "    </tr>\n",
              "  </tbody>\n",
              "</table>\n",
              "</div>"
            ],
            "text/plain": [
              "   Administrative  Administrative_Duration  ...  Weekend  Revenue\n",
              "0               0                      0.0  ...        0        0\n",
              "1               0                      0.0  ...        0        0\n",
              "2               0                      0.0  ...        0        0\n",
              "3               0                      0.0  ...        0        0\n",
              "4               0                      0.0  ...        1        0\n",
              "\n",
              "[5 rows x 18 columns]"
            ]
          },
          "metadata": {
            "tags": []
          },
          "execution_count": 8
        }
      ]
    },
    {
      "cell_type": "code",
      "metadata": {
        "colab": {
          "base_uri": "https://localhost:8080/",
          "height": 0
        },
        "id": "KvFbdeTireQ5",
        "outputId": "5f41e1c5-df1d-49b5-9a1d-1c3d5f4b77e5"
      },
      "source": [
        "#On définit x --> sans la colonne Revenue\r\n",
        "x = data.iloc[:,0:17]\r\n",
        "x.head()"
      ],
      "execution_count": 9,
      "outputs": [
        {
          "output_type": "execute_result",
          "data": {
            "text/html": [
              "<div>\n",
              "<style scoped>\n",
              "    .dataframe tbody tr th:only-of-type {\n",
              "        vertical-align: middle;\n",
              "    }\n",
              "\n",
              "    .dataframe tbody tr th {\n",
              "        vertical-align: top;\n",
              "    }\n",
              "\n",
              "    .dataframe thead th {\n",
              "        text-align: right;\n",
              "    }\n",
              "</style>\n",
              "<table border=\"1\" class=\"dataframe\">\n",
              "  <thead>\n",
              "    <tr style=\"text-align: right;\">\n",
              "      <th></th>\n",
              "      <th>Administrative</th>\n",
              "      <th>Administrative_Duration</th>\n",
              "      <th>Informational</th>\n",
              "      <th>Informational_Duration</th>\n",
              "      <th>ProductRelated</th>\n",
              "      <th>ProductRelated_Duration</th>\n",
              "      <th>BounceRates</th>\n",
              "      <th>ExitRates</th>\n",
              "      <th>PageValues</th>\n",
              "      <th>SpecialDay</th>\n",
              "      <th>Month</th>\n",
              "      <th>OperatingSystems</th>\n",
              "      <th>Browser</th>\n",
              "      <th>Region</th>\n",
              "      <th>TrafficType</th>\n",
              "      <th>VisitorType</th>\n",
              "      <th>Weekend</th>\n",
              "    </tr>\n",
              "  </thead>\n",
              "  <tbody>\n",
              "    <tr>\n",
              "      <th>0</th>\n",
              "      <td>0</td>\n",
              "      <td>0.0</td>\n",
              "      <td>0</td>\n",
              "      <td>0.0</td>\n",
              "      <td>1</td>\n",
              "      <td>0.000000</td>\n",
              "      <td>0.20</td>\n",
              "      <td>0.20</td>\n",
              "      <td>0.0</td>\n",
              "      <td>0.0</td>\n",
              "      <td>1</td>\n",
              "      <td>1</td>\n",
              "      <td>1</td>\n",
              "      <td>1</td>\n",
              "      <td>1</td>\n",
              "      <td>1</td>\n",
              "      <td>0</td>\n",
              "    </tr>\n",
              "    <tr>\n",
              "      <th>1</th>\n",
              "      <td>0</td>\n",
              "      <td>0.0</td>\n",
              "      <td>0</td>\n",
              "      <td>0.0</td>\n",
              "      <td>2</td>\n",
              "      <td>64.000000</td>\n",
              "      <td>0.00</td>\n",
              "      <td>0.10</td>\n",
              "      <td>0.0</td>\n",
              "      <td>0.0</td>\n",
              "      <td>1</td>\n",
              "      <td>2</td>\n",
              "      <td>2</td>\n",
              "      <td>1</td>\n",
              "      <td>2</td>\n",
              "      <td>1</td>\n",
              "      <td>0</td>\n",
              "    </tr>\n",
              "    <tr>\n",
              "      <th>2</th>\n",
              "      <td>0</td>\n",
              "      <td>0.0</td>\n",
              "      <td>0</td>\n",
              "      <td>0.0</td>\n",
              "      <td>1</td>\n",
              "      <td>0.000000</td>\n",
              "      <td>0.20</td>\n",
              "      <td>0.20</td>\n",
              "      <td>0.0</td>\n",
              "      <td>0.0</td>\n",
              "      <td>1</td>\n",
              "      <td>4</td>\n",
              "      <td>1</td>\n",
              "      <td>9</td>\n",
              "      <td>3</td>\n",
              "      <td>1</td>\n",
              "      <td>0</td>\n",
              "    </tr>\n",
              "    <tr>\n",
              "      <th>3</th>\n",
              "      <td>0</td>\n",
              "      <td>0.0</td>\n",
              "      <td>0</td>\n",
              "      <td>0.0</td>\n",
              "      <td>2</td>\n",
              "      <td>2.666667</td>\n",
              "      <td>0.05</td>\n",
              "      <td>0.14</td>\n",
              "      <td>0.0</td>\n",
              "      <td>0.0</td>\n",
              "      <td>1</td>\n",
              "      <td>3</td>\n",
              "      <td>2</td>\n",
              "      <td>2</td>\n",
              "      <td>4</td>\n",
              "      <td>1</td>\n",
              "      <td>0</td>\n",
              "    </tr>\n",
              "    <tr>\n",
              "      <th>4</th>\n",
              "      <td>0</td>\n",
              "      <td>0.0</td>\n",
              "      <td>0</td>\n",
              "      <td>0.0</td>\n",
              "      <td>10</td>\n",
              "      <td>627.500000</td>\n",
              "      <td>0.02</td>\n",
              "      <td>0.05</td>\n",
              "      <td>0.0</td>\n",
              "      <td>0.0</td>\n",
              "      <td>1</td>\n",
              "      <td>3</td>\n",
              "      <td>3</td>\n",
              "      <td>1</td>\n",
              "      <td>4</td>\n",
              "      <td>1</td>\n",
              "      <td>1</td>\n",
              "    </tr>\n",
              "  </tbody>\n",
              "</table>\n",
              "</div>"
            ],
            "text/plain": [
              "   Administrative  Administrative_Duration  ...  VisitorType  Weekend\n",
              "0               0                      0.0  ...            1        0\n",
              "1               0                      0.0  ...            1        0\n",
              "2               0                      0.0  ...            1        0\n",
              "3               0                      0.0  ...            1        0\n",
              "4               0                      0.0  ...            1        1\n",
              "\n",
              "[5 rows x 17 columns]"
            ]
          },
          "metadata": {
            "tags": []
          },
          "execution_count": 9
        }
      ]
    },
    {
      "cell_type": "code",
      "metadata": {
        "colab": {
          "base_uri": "https://localhost:8080/"
        },
        "id": "kUEmOI-1401Z",
        "outputId": "2f1f3b76-b925-489e-e8f8-3d1992baed41"
      },
      "source": [
        "#On définit y ce qu'on doit prédire --> Les revenues\r\n",
        "y= data[\"Revenue\"]\r\n",
        "y.head()"
      ],
      "execution_count": 10,
      "outputs": [
        {
          "output_type": "execute_result",
          "data": {
            "text/plain": [
              "0    0\n",
              "1    0\n",
              "2    0\n",
              "3    0\n",
              "4    0\n",
              "Name: Revenue, dtype: int64"
            ]
          },
          "metadata": {
            "tags": []
          },
          "execution_count": 10
        }
      ]
    },
    {
      "cell_type": "code",
      "metadata": {
        "colab": {
          "base_uri": "https://localhost:8080/"
        },
        "id": "2ABAnNdc5GdE",
        "outputId": "cc5e023e-4200-4877-df89-6676dd37a28e"
      },
      "source": [
        "#Affichage de la shape de x et y\r\n",
        "print(\"x_shape\", x.shape)\r\n",
        "print(\"y_shape\", y.shape)"
      ],
      "execution_count": 11,
      "outputs": [
        {
          "output_type": "stream",
          "text": [
            "x_shape (12330, 17)\n",
            "y_shape (12330,)\n"
          ],
          "name": "stdout"
        }
      ]
    },
    {
      "cell_type": "code",
      "metadata": {
        "id": "xsyQlk6O-yOL"
      },
      "source": [
        "#Division de la dataset en train et test\r\n",
        "x_train, x_test, y_train, y_test = train_test_split(x, y, test_size = 0.2, random_state = 123) #20% test, 80% train"
      ],
      "execution_count": 12,
      "outputs": []
    },
    {
      "cell_type": "code",
      "metadata": {
        "id": "gzJGRa4s_miu"
      },
      "source": [
        "#Exportations des colonnes de la df de X pour l'api\r\n",
        "model_columns = list(x.columns)\r\n",
        "#joblib.dump(model_columns, 'model_columns.pkl')"
      ],
      "execution_count": 13,
      "outputs": []
    },
    {
      "cell_type": "code",
      "metadata": {
        "id": "9mUST6kRJeTK"
      },
      "source": [
        "#Exportation des x pour tester des lignes à prédire dans notre api\r\n",
        "#x.to_json(r'data.json', orient=\"index\")\r\n",
        "#x_test.to_json(r'x_test.json', orient=\"index\")"
      ],
      "execution_count": 14,
      "outputs": []
    },
    {
      "cell_type": "markdown",
      "metadata": {
        "id": "Hhp653adNP_v"
      },
      "source": [
        "# 4) Application des modèles"
      ]
    },
    {
      "cell_type": "code",
      "metadata": {
        "id": "fGL60pMLXGAF"
      },
      "source": [
        "#Définition du dictionnaire qui contiendra tout les modèles testés\r\n",
        "#En clé: le nom du modèle et ses best parametres\r\n",
        "#En valeur: l'accuracy du modèle\r\n",
        "models = {}"
      ],
      "execution_count": null,
      "outputs": []
    },
    {
      "cell_type": "code",
      "metadata": {
        "id": "qXkVO6LAEKmO"
      },
      "source": [
        "def print_time():\r\n",
        "    \"\"\"\r\n",
        "    Affiche et retourne l'heure de la machine.\r\n",
        "    Utilisé pour mesurer le temps d'execution du classifieur.\r\n",
        "    \"\"\"\r\n",
        "    import time\r\n",
        "    import datetime\r\n",
        "    t = datetime.datetime.now().time()\r\n",
        "    #print t.isoformat()[:8]\r\n",
        "    return time.time()"
      ],
      "execution_count": 15,
      "outputs": []
    },
    {
      "cell_type": "code",
      "metadata": {
        "id": "Cik1kR2mjjjC"
      },
      "source": [
        "#Définition de la fonction qui va permettre de plot le modèle en fonction des différents paramètres testés dans le grid search\r\n",
        "def plot_grid_search(cv_results, grid_param_1, grid_param_2, name_param_1, name_param_2):\r\n",
        "    # Obtient les scores moyens de test et std pour chaque grid search\r\n",
        "    scores_mean = cv_results['mean_test_score']\r\n",
        "    scores_mean = np.array(scores_mean).reshape(len(grid_param_2),len(grid_param_1))\r\n",
        "\r\n",
        "    scores_sd = cv_results['std_test_score']\r\n",
        "    scores_sd = np.array(scores_sd).reshape(len(grid_param_2),len(grid_param_1))\r\n",
        "\r\n",
        "    # Plot les scores du grid search\r\n",
        "    _, ax = plt.subplots(1,1)\r\n",
        "\r\n",
        "    #grid_param_1 est représenté par l'axe des abcisses\r\n",
        "    #grid_param_2 est représenté grâce aux différentes couleurs des axes \r\n",
        "    for idx, val in enumerate(grid_param_2):\r\n",
        "        ax.plot(grid_param_1, scores_mean[idx,:], '-o', label= name_param_2 + ': ' + str(val))\r\n",
        "\r\n",
        "    ax.set_title(\"Grid Search Scores\", fontsize=20, fontweight='bold')\r\n",
        "    ax.set_xlabel(name_param_1, fontsize=16)\r\n",
        "    ax.set_ylabel('CV Average Score', fontsize=16)\r\n",
        "    ax.legend(loc=\"best\", fontsize=15)\r\n",
        "    ax.grid('on')"
      ],
      "execution_count": 16,
      "outputs": []
    },
    {
      "cell_type": "markdown",
      "metadata": {
        "id": "7CXiFz61C0va"
      },
      "source": [
        "### KNN"
      ]
    },
    {
      "cell_type": "code",
      "metadata": {
        "colab": {
          "base_uri": "https://localhost:8080/"
        },
        "id": "OziWXKRI_gru",
        "outputId": "b9e45da1-0c6c-46b6-8f1f-8fa92c2f15d1"
      },
      "source": [
        "start_time = print_time()\r\n",
        "knn = KNeighborsClassifier(2)\r\n",
        "knn.fit(x_train, y_train)\r\n",
        "end_time = print_time()\r\n",
        "print (\"\\nDuration time :\", end_time - start_time)"
      ],
      "execution_count": null,
      "outputs": [
        {
          "output_type": "stream",
          "text": [
            "\n",
            "Duration time : 0.046593666076660156\n"
          ],
          "name": "stdout"
        }
      ]
    },
    {
      "cell_type": "code",
      "metadata": {
        "colab": {
          "base_uri": "https://localhost:8080/"
        },
        "id": "8EWdMrUkAHeQ",
        "outputId": "fd5c0063-8e2c-44f7-cafc-f34e90e0317b"
      },
      "source": [
        "knn.score(x_test, y_test)"
      ],
      "execution_count": null,
      "outputs": [
        {
          "output_type": "execute_result",
          "data": {
            "text/plain": [
              "0.8548256285482563"
            ]
          },
          "metadata": {
            "tags": []
          },
          "execution_count": 78
        }
      ]
    },
    {
      "cell_type": "code",
      "metadata": {
        "colab": {
          "base_uri": "https://localhost:8080/"
        },
        "id": "R0Fh02I9jtks",
        "outputId": "aec6372e-4083-41e6-dfda-ada952d8815e"
      },
      "source": [
        "#Cross validation\r\n",
        "#test de plusieurs cross_val score moyen en fesant varier le nb de decoupage de 2 à 10\r\n",
        "for i in range(2,11):\r\n",
        "  print(i)\r\n",
        "  print(cross_val_score(KNeighborsClassifier(2), x_train, y_train, cv=i, scoring=\"accuracy\").mean())"
      ],
      "execution_count": null,
      "outputs": [
        {
          "output_type": "stream",
          "text": [
            "2\n",
            "0.857765612327656\n",
            "3\n",
            "0.8600973236009732\n",
            "4\n",
            "0.8630373073803731\n",
            "5\n",
            "0.8620234730730993\n",
            "6\n",
            "0.8624290348742903\n",
            "7\n",
            "0.8621242943215671\n",
            "8\n",
            "0.8621248986212491\n",
            "9\n",
            "0.8620235198702352\n",
            "10\n",
            "0.863138241356704\n"
          ],
          "name": "stdout"
        }
      ]
    },
    {
      "cell_type": "code",
      "metadata": {
        "colab": {
          "base_uri": "https://localhost:8080/",
          "height": 312
        },
        "id": "RPHPCbQRkOi4",
        "outputId": "43cc5301-7d27-47b8-b01b-b37b5263519b"
      },
      "source": [
        "#Test de différent nombre de voisins allant de 1 à 50\r\n",
        "val_score=[]\r\n",
        "for i in range(1,50):\r\n",
        "    val_score.append(cross_val_score(KNeighborsClassifier(i), x_train, y_train, cv=10, scoring=\"accuracy\").mean())\r\n",
        "plt.plot(val_score)\r\n",
        "plt.xlabel(\"Neighbors number\")\r\n",
        "plt.ylabel(\"Accuracy\")\r\n",
        "plt.title(\"Accuracy in terms of neighbors number define in KNN\")\r\n",
        "plt.show()"
      ],
      "execution_count": null,
      "outputs": [
        {
          "output_type": "execute_result",
          "data": {
            "text/plain": [
              "Text(0.5, 1.0, 'Accuracy in terms of neighbors number define in KNN')"
            ]
          },
          "metadata": {
            "tags": []
          },
          "execution_count": 128
        },
        {
          "output_type": "display_data",
          "data": {
            "image/png": "[encoded data removed]",
            "text/plain": [
              "<Figure size 432x288 with 1 Axes>"
            ]
          },
          "metadata": {
            "tags": [],
            "needs_background": "light"
          }
        }
      ]
    },
    {
      "cell_type": "markdown",
      "metadata": {
        "id": "sQAQZMIROb5z"
      },
      "source": [
        "On remarque qu'on obtient la meilleure accuracy avec 10 voisins"
      ]
    },
    {
      "cell_type": "code",
      "metadata": {
        "colab": {
          "base_uri": "https://localhost:8080/"
        },
        "id": "iwHvRFCxjlND",
        "outputId": "ec8374d1-62f8-43d3-9410-79bc75ac9797"
      },
      "source": [
        "#Application du grid search \r\n",
        "param_grid = {'n_neighbors':np.arange(1,20), 'metric':[\"euclidean\", \"manhattan\", \"minkowski\"]}\r\n",
        "grid = GridSearchCV(KNeighborsClassifier(), param_grid, cv=10)\r\n",
        "grid.fit(x_train, y_train)\r\n",
        "\r\n",
        "#Affichage du best score et des meilleures paramètres testés\r\n",
        "print(\"best score : \",grid.best_score_)\r\n",
        "print(\"best parameters : \",grid.best_params_)"
      ],
      "execution_count": 17,
      "outputs": [
        {
          "output_type": "stream",
          "text": [
            "best score :  0.8658765780707001\n",
            "best parameters :  {'metric': 'euclidean', 'n_neighbors': 14}\n"
          ],
          "name": "stdout"
        }
      ]
    },
    {
      "cell_type": "code",
      "metadata": {
        "colab": {
          "base_uri": "https://localhost:8080/",
          "height": 307
        },
        "id": "SaEJfPhZhBvm",
        "outputId": "eb7a1a81-5018-4673-e192-7acf1fda95ef"
      },
      "source": [
        "#Plot des modèles testés en fonctions des hyperparamètres testés dans le modèle\r\n",
        "plot_grid_search(grid.cv_results_, param_grid[\"n_neighbors\"], param_grid['metric'], 'n_neighbors', 'metric')"
      ],
      "execution_count": null,
      "outputs": [
        {
          "output_type": "display_data",
          "data": {
            "image/png": "[encoded data removed]",
            "text/plain": [
              "<Figure size 432x288 with 1 Axes>"
            ]
          },
          "metadata": {
            "tags": [],
            "needs_background": "light"
          }
        }
      ]
    },
    {
      "cell_type": "markdown",
      "metadata": {
        "id": "-gdYONPQUOdr"
      },
      "source": [
        "On remarque que le knn performe le mieux avec 14 voisins et la metric minkowski"
      ]
    },
    {
      "cell_type": "code",
      "metadata": {
        "id": "tS0SDIVrXOxa"
      },
      "source": [
        "#On met dans le dictionnaire le modèle, ses best parametres et son best score\r\n",
        "model = \"KNN \" + str(grid.best_params_)\r\n",
        "models[model] = grid.best_score_"
      ],
      "execution_count": null,
      "outputs": []
    },
    {
      "cell_type": "code",
      "metadata": {
        "colab": {
          "base_uri": "https://localhost:8080/"
        },
        "id": "StLeDisYnd4i",
        "outputId": "7d930e74-429b-4850-dacb-61ff726eb873"
      },
      "source": [
        "knn=grid.best_estimator_\r\n",
        "knn.score(x_test,y_test)"
      ],
      "execution_count": 22,
      "outputs": [
        {
          "output_type": "execute_result",
          "data": {
            "text/plain": [
              "0.8471208434712084"
            ]
          },
          "metadata": {
            "tags": []
          },
          "execution_count": 22
        }
      ]
    },
    {
      "cell_type": "code",
      "metadata": {
        "colab": {
          "base_uri": "https://localhost:8080/",
          "height": 295
        },
        "id": "Xb1zgSBycWjC",
        "outputId": "9237cf53-f46f-4db0-8b0e-b1ac12253d52"
      },
      "source": [
        "y_pred = knn.predict(x_test)\r\n",
        "\r\n",
        "#Matrice de confusion de la régression linéaire\r\n",
        "cf_matrix = confusion_matrix(y_test, y_pred)\r\n",
        "\r\n",
        "#Plot de la matrice de confusion\r\n",
        "ax = sns.heatmap(cf_matrix/np.sum(cf_matrix), annot=True, fmt='.2%')\r\n",
        "ax.set(title=\"Confusion matrix KNN\", xlabel=\"Actual\", ylabel = \"Predicted\")\r\n",
        "plt.show()"
      ],
      "execution_count": 23,
      "outputs": [
        {
          "output_type": "display_data",
          "data": {
            "image/png": "[encoded data removed]",
            "text/plain": [
              "<Figure size 432x288 with 2 Axes>"
            ]
          },
          "metadata": {
            "tags": [],
            "needs_background": "light"
          }
        }
      ]
    },
    {
      "cell_type": "markdown",
      "metadata": {
        "id": "gnHBXdq3ced9"
      },
      "source": [
        "Le Knn prédit très bien les 0 mais beaucoup moins bien les 1, cela peut s'expliquer par le fait qu'il y a beaucoup moins de 1 dans la df donc il apprend moins à prédire les 1."
      ]
    },
    {
      "cell_type": "markdown",
      "metadata": {
        "id": "KhTNNFhdC-O4"
      },
      "source": [
        "### Logistic regression"
      ]
    },
    {
      "cell_type": "code",
      "metadata": {
        "id": "Butcf_qqD9N6",
        "colab": {
          "base_uri": "https://localhost:8080/"
        },
        "outputId": "a6c99014-11fa-4008-d676-3fc0137f27a5"
      },
      "source": [
        "start_time = print_time()\r\n",
        "logRegression = LogisticRegression().fit(x_train, y_train)\r\n",
        "end_time = print_time()\r\n",
        "print (\"\\nDuration time :\", end_time - start_time)"
      ],
      "execution_count": null,
      "outputs": [
        {
          "output_type": "stream",
          "text": [
            "\n",
            "Duration time : 0.19899511337280273\n"
          ],
          "name": "stdout"
        },
        {
          "output_type": "stream",
          "text": [
            "/usr/local/lib/python3.6/dist-packages/sklearn/linear_model/_logistic.py:940: ConvergenceWarning: lbfgs failed to converge (status=1):\n",
            "STOP: TOTAL NO. of ITERATIONS REACHED LIMIT.\n",
            "\n",
            "Increase the number of iterations (max_iter) or scale the data as shown in:\n",
            "    https://scikit-learn.org/stable/modules/preprocessing.html\n",
            "Please also refer to the documentation for alternative solver options:\n",
            "    https://scikit-learn.org/stable/modules/linear_model.html#logistic-regression\n",
            "  extra_warning_msg=_LOGISTIC_SOLVER_CONVERGENCE_MSG)\n"
          ],
          "name": "stderr"
        }
      ]
    },
    {
      "cell_type": "code",
      "metadata": {
        "colab": {
          "base_uri": "https://localhost:8080/"
        },
        "id": "Ymxu9JhCFD5v",
        "outputId": "60574802-0ea2-4d36-e66a-1ea1dc95792d"
      },
      "source": [
        "logRegression.score(x_test, y_test)"
      ],
      "execution_count": null,
      "outputs": [
        {
          "output_type": "execute_result",
          "data": {
            "text/plain": [
              "0.8722627737226277"
            ]
          },
          "metadata": {
            "tags": []
          },
          "execution_count": 27
        }
      ]
    },
    {
      "cell_type": "code",
      "metadata": {
        "id": "vZ1C1tropdpR"
      },
      "source": [
        "#Cross validation\r\n",
        "#test de plusieurs cross_val score moyen en fesant varier le nb de decoupage de 2 à 10\r\n",
        "for i in range(2,11):\r\n",
        "  print(i)\r\n",
        "  print(cross_val_score(LogisticRegression(), x_train, y_train, cv=i, scoring=\"accuracy\").mean())"
      ],
      "execution_count": null,
      "outputs": []
    },
    {
      "cell_type": "code",
      "metadata": {
        "id": "kjs1ZwhRrho7"
      },
      "source": [
        "#Application du grid search \r\n",
        "param_grid = {'penalty':['l1', 'l2'], 'C':[0, 4, 10]}\r\n",
        "grid = GridSearchCV(LogisticRegression(), param_grid, cv=6)\r\n",
        "grid.fit(x_train, y_train)"
      ],
      "execution_count": null,
      "outputs": []
    },
    {
      "cell_type": "code",
      "metadata": {
        "colab": {
          "base_uri": "https://localhost:8080/"
        },
        "id": "LbPOFnuN4XMi",
        "outputId": "9db76854-f92f-4a6e-c4a3-9e12b26680db"
      },
      "source": [
        "#Affichage du best score et des meilleures paramètres testés\r\n",
        "print(\"best score : \",grid.best_score_)\r\n",
        "print(\"best parameters : \",grid.best_params_)"
      ],
      "execution_count": null,
      "outputs": [
        {
          "output_type": "stream",
          "text": [
            "best score :  0.8826034063260341\n",
            "best parameters :  {'C': 4, 'penalty': 'l2'}\n"
          ],
          "name": "stdout"
        }
      ]
    },
    {
      "cell_type": "markdown",
      "metadata": {
        "id": "wiXiBJPzUdar"
      },
      "source": [
        "La logistic regression performe le mieux avec le C à 4 et 'penalty' à l2"
      ]
    },
    {
      "cell_type": "code",
      "metadata": {
        "id": "K16JxRtFYyQx"
      },
      "source": [
        "#On met dans le dictionnaire le modèle, ses best parametres et son best score\r\n",
        "model = \"Logistic regression \" + str(grid.best_params_)\r\n",
        "models[model] = grid.best_score_"
      ],
      "execution_count": null,
      "outputs": []
    },
    {
      "cell_type": "code",
      "metadata": {
        "colab": {
          "base_uri": "https://localhost:8080/"
        },
        "id": "VRIYODSGsFfV",
        "outputId": "9d56a457-9dc1-4134-cd39-aab3d3f1813e"
      },
      "source": [
        "logRegression=grid.best_estimator_\r\n",
        "logRegression.score(x_test,y_test)"
      ],
      "execution_count": 25,
      "outputs": [
        {
          "output_type": "execute_result",
          "data": {
            "text/plain": [
              "0.8734793187347932"
            ]
          },
          "metadata": {
            "tags": []
          },
          "execution_count": 25
        }
      ]
    },
    {
      "cell_type": "code",
      "metadata": {
        "colab": {
          "base_uri": "https://localhost:8080/",
          "height": 295
        },
        "id": "3maq9x0uiFep",
        "outputId": "a930abca-4002-4130-b983-c6be08b905a7"
      },
      "source": [
        "y_pred = logRegression.predict(x_test)\r\n",
        "\r\n",
        "#Matrice de confusion de la régression linéaire\r\n",
        "cf_matrix = confusion_matrix(y_test, y_pred)\r\n",
        "\r\n",
        "#Plot de la matrice de confusion\r\n",
        "ax = sns.heatmap(cf_matrix/np.sum(cf_matrix), annot=True, fmt='.2%')\r\n",
        "ax.set(title=\"Confusion matrix Logistic Regression\", xlabel=\"Actual\", ylabel = \"Predicted\")\r\n",
        "plt.show()"
      ],
      "execution_count": 26,
      "outputs": [
        {
          "output_type": "display_data",
          "data": {
            "image/png": "[encoded data removed]",
            "text/plain": [
              "<Figure size 432x288 with 2 Axes>"
            ]
          },
          "metadata": {
            "tags": [],
            "needs_background": "light"
          }
        }
      ]
    },
    {
      "cell_type": "markdown",
      "metadata": {
        "id": "G6Byh_asVC8L"
      },
      "source": [
        "On peut voir grâce à la matrice de confusion que le modèle est très performant,\r\n",
        "il y a beaucoup plus de 0 à prédire(cad personnes qui n'achètent pas) que de 1.\r\n",
        "Environ 10% des valeurs sont prédit 1 alors que c'est 0.\r\n",
        "Environ 2% des valeurs sont prédit 0 alors que c'est 1.\r\n",
        "Très peu d'erreurs. Le modèle prédit mieux les 0, beaucoup moins bien les 1 car il apprend mieux vu qu'il y a plus de 0 dans la df et les 1 sont plus rares tout comme le KNN."
      ]
    },
    {
      "cell_type": "markdown",
      "metadata": {
        "id": "zh3T4lmIF76N"
      },
      "source": [
        "### Decision Trees"
      ]
    },
    {
      "cell_type": "code",
      "metadata": {
        "colab": {
          "base_uri": "https://localhost:8080/"
        },
        "id": "c6joAzPlGMPM",
        "outputId": "020a3982-8c36-485d-b939-80504bac8545"
      },
      "source": [
        "start_time = print_time()\r\n",
        "Dtree = tree.DecisionTreeClassifier()\r\n",
        "Dtree.fit(x_train, y_train)\r\n",
        "end_time = print_time()\r\n",
        "print (\"\\nDuration time :\", end_time - start_time)"
      ],
      "execution_count": null,
      "outputs": [
        {
          "output_type": "stream",
          "text": [
            "\n",
            "Duration time : 0.06683897972106934\n"
          ],
          "name": "stdout"
        }
      ]
    },
    {
      "cell_type": "code",
      "metadata": {
        "colab": {
          "base_uri": "https://localhost:8080/"
        },
        "id": "CUnlFrpiGWCp",
        "outputId": "1e1c0cde-d67a-46d4-b170-0ee5267d174d"
      },
      "source": [
        "Dtree.score(x_test, y_test)"
      ],
      "execution_count": null,
      "outputs": [
        {
          "output_type": "execute_result",
          "data": {
            "text/plain": [
              "0.845904298459043"
            ]
          },
          "metadata": {
            "tags": []
          },
          "execution_count": 94
        }
      ]
    },
    {
      "cell_type": "code",
      "metadata": {
        "id": "IENaEPUeGugV"
      },
      "source": [
        "#tree.plot_tree(Dtree)"
      ],
      "execution_count": null,
      "outputs": []
    },
    {
      "cell_type": "code",
      "metadata": {
        "colab": {
          "base_uri": "https://localhost:8080/"
        },
        "id": "LlpqeL0os9x0",
        "outputId": "53c43be7-1fd1-4d8f-8aed-742bc404b634"
      },
      "source": [
        "#Cross validation\r\n",
        "#test de plusieurs cross_val score moyen en fesant varier le nb de decoupage de 2 à 10\r\n",
        "for i in range(2,11):\r\n",
        "  print(i)\r\n",
        "  print(cross_val_score(tree.DecisionTreeClassifier(), x_train, y_train, cv=i, scoring=\"accuracy\").mean())"
      ],
      "execution_count": null,
      "outputs": [
        {
          "output_type": "stream",
          "text": [
            "2\n",
            "0.8570559610705596\n",
            "3\n",
            "0.8629359286293593\n",
            "4\n",
            "0.8614152473641525\n",
            "5\n",
            "0.8649639812930957\n",
            "6\n",
            "0.8638483373884834\n",
            "7\n",
            "0.856954820041663\n",
            "8\n",
            "0.863544201135442\n",
            "9\n",
            "0.8638483373884834\n",
            "10\n",
            "0.8610078073782704\n"
          ],
          "name": "stdout"
        }
      ]
    },
    {
      "cell_type": "code",
      "metadata": {
        "colab": {
          "base_uri": "https://localhost:8080/"
        },
        "id": "ft3MdR0fsmJl",
        "outputId": "3726915a-823f-4213-eb4f-b1e55430b1cb"
      },
      "source": [
        "#Application du grid search \r\n",
        "param_grid = {'criterion':['gini', 'entropy'], 'max_depth':[2,4,6,8,10,12,13]}\r\n",
        "grid = GridSearchCV(tree.DecisionTreeClassifier(), param_grid, cv=5)\r\n",
        "grid.fit(x_train, y_train)\r\n",
        "\r\n",
        "#Affichage du best score et des meilleures paramètres testés\r\n",
        "print(\"best score : \",grid.best_score_)\r\n",
        "print(\"best parameters : \",grid.best_params_)"
      ],
      "execution_count": 27,
      "outputs": [
        {
          "output_type": "stream",
          "text": [
            "best score :  0.9022706127035466\n",
            "best parameters :  {'criterion': 'gini', 'max_depth': 4}\n"
          ],
          "name": "stdout"
        }
      ]
    },
    {
      "cell_type": "code",
      "metadata": {
        "colab": {
          "base_uri": "https://localhost:8080/",
          "height": 307
        },
        "id": "Vgb_BqG0iOVZ",
        "outputId": "a0fcc30a-4fc6-4982-f5ab-9cf8addf9f7e"
      },
      "source": [
        "#Plot des modèles testés en fonctions des hyperparamètres testés dans le modèle\r\n",
        "plot_grid_search(grid.cv_results_, param_grid[\"max_depth\"], param_grid['criterion'], 'max_depth', 'criterion')"
      ],
      "execution_count": null,
      "outputs": [
        {
          "output_type": "display_data",
          "data": {
            "image/png": "[encoded data removed]",
            "text/plain": [
              "<Figure size 432x288 with 1 Axes>"
            ]
          },
          "metadata": {
            "tags": [],
            "needs_background": "light"
          }
        }
      ]
    },
    {
      "cell_type": "markdown",
      "metadata": {
        "id": "34HjJIoZWGG1"
      },
      "source": [
        "Le decision tree performe le mieux avec le \"max_depth\" à 4 et le criterion \"gini\". Cependant on voit qu'avec un max_depth supérieur à 4 le criterion \"entropy\" performe toujours mieux."
      ]
    },
    {
      "cell_type": "code",
      "metadata": {
        "id": "oH8rboYzY4rF"
      },
      "source": [
        "#On met dans le dictionnaire le modèle, ses best parametres et son best score\r\n",
        "model = \"Decision tree \" + str(grid.best_params_)\r\n",
        "models[model] = grid.best_score_"
      ],
      "execution_count": null,
      "outputs": []
    },
    {
      "cell_type": "code",
      "metadata": {
        "colab": {
          "base_uri": "https://localhost:8080/"
        },
        "id": "Rn9Qirl_spXf",
        "outputId": "c44d69da-fa5b-4fd6-81a6-2604932ed9f9"
      },
      "source": [
        "Dtree=grid.best_estimator_\r\n",
        "Dtree.score(x_test,y_test)"
      ],
      "execution_count": 28,
      "outputs": [
        {
          "output_type": "execute_result",
          "data": {
            "text/plain": [
              "0.8909164639091647"
            ]
          },
          "metadata": {
            "tags": []
          },
          "execution_count": 28
        }
      ]
    },
    {
      "cell_type": "code",
      "metadata": {
        "colab": {
          "base_uri": "https://localhost:8080/",
          "height": 295
        },
        "id": "IE_gKZEaa-zk",
        "outputId": "daa8efbc-5d8b-4f02-a335-ec5ea922448c"
      },
      "source": [
        "y_pred = Dtree.predict(x_test)\r\n",
        "\r\n",
        "#Matrice de confusion de la régression linéaire\r\n",
        "cf_matrix = confusion_matrix(y_test, y_pred)\r\n",
        "\r\n",
        "#Plot de la matrice de confusion\r\n",
        "ax = sns.heatmap(cf_matrix/np.sum(cf_matrix), annot=True, fmt='.2%')\r\n",
        "ax.set(title=\"Confusion matrix Decision Tree\", xlabel=\"Actual\", ylabel = \"Predicted\")\r\n",
        "plt.show()"
      ],
      "execution_count": 29,
      "outputs": [
        {
          "output_type": "display_data",
          "data": {
            "image/png": "[encoded data removed]",
            "text/plain": [
              "<Figure size 432x288 with 2 Axes>"
            ]
          },
          "metadata": {
            "tags": [],
            "needs_background": "light"
          }
        }
      ]
    },
    {
      "cell_type": "markdown",
      "metadata": {
        "id": "eaEi3mLcbJ2H"
      },
      "source": [
        "C'est le modèle qui a la meilleur répartition de prédiction au niveau des 1 et des 0. C'est peut être pas celui qui prédit le mieux les 0 mais dans la globalité 1, 0 c'est celui qui prédit le mieux. Le modèle arrive à parer le fait qu'il n'y ai pas assez de 1 comparé à la plupart des autres modèles testés plus haut."
      ]
    },
    {
      "cell_type": "markdown",
      "metadata": {
        "id": "75wsfCwcG-L6"
      },
      "source": [
        "### Support Vector Machine"
      ]
    },
    {
      "cell_type": "code",
      "metadata": {
        "colab": {
          "base_uri": "https://localhost:8080/"
        },
        "id": "QfCRMzT5HBEr",
        "outputId": "977970e9-ef40-4776-f629-6639ecc20fbc"
      },
      "source": [
        "start_time = print_time()\r\n",
        "SVM = svm.SVC()\r\n",
        "SVM.fit(x_train, y_train)\r\n",
        "end_time = print_time()\r\n",
        "print (\"\\nDuration time :\", end_time - start_time)"
      ],
      "execution_count": 30,
      "outputs": [
        {
          "output_type": "stream",
          "text": [
            "\n",
            "Duration time : 2.280254602432251\n"
          ],
          "name": "stdout"
        }
      ]
    },
    {
      "cell_type": "code",
      "metadata": {
        "colab": {
          "base_uri": "https://localhost:8080/"
        },
        "id": "dfnLtlCyJV4w",
        "outputId": "f80e64b8-15d8-4500-cf6a-7e23d1d08cc7"
      },
      "source": [
        "SVM.score(x_test, y_test)"
      ],
      "execution_count": 31,
      "outputs": [
        {
          "output_type": "execute_result",
          "data": {
            "text/plain": [
              "0.8414436334144363"
            ]
          },
          "metadata": {
            "tags": []
          },
          "execution_count": 31
        }
      ]
    },
    {
      "cell_type": "code",
      "metadata": {
        "colab": {
          "base_uri": "https://localhost:8080/",
          "height": 295
        },
        "id": "mddyTPBXfEod",
        "outputId": "feecbe0e-7f6c-4fd2-eb44-bdb511189cf3"
      },
      "source": [
        "y_pred = SVM.predict(x_test)\r\n",
        "\r\n",
        "#Matrice de confusion de la régression linéaire\r\n",
        "cf_matrix = confusion_matrix(y_test, y_pred)\r\n",
        "\r\n",
        "#Plot de la matrice de confusion\r\n",
        "ax = sns.heatmap(cf_matrix/np.sum(cf_matrix), annot=True, fmt='.2%')\r\n",
        "ax.set(title=\"Confusion matrix SVM\", xlabel=\"Actual\", ylabel = \"Predicted\")\r\n",
        "plt.show()"
      ],
      "execution_count": 32,
      "outputs": [
        {
          "output_type": "display_data",
          "data": {
            "image/png": "[encoded data removed]",
            "text/plain": [
              "<Figure size 432x288 with 2 Axes>"
            ]
          },
          "metadata": {
            "tags": [],
            "needs_background": "light"
          }
        }
      ]
    },
    {
      "cell_type": "markdown",
      "metadata": {
        "id": "VQUNa6MvfQVt"
      },
      "source": [
        "Le modèle ne prédit pas du tout bien les 1. Il a peut être une bonne accuracy mais fait trop d'erreur au niveau de la prédiction des 1."
      ]
    },
    {
      "cell_type": "code",
      "metadata": {
        "colab": {
          "base_uri": "https://localhost:8080/"
        },
        "id": "o2mNqNOU5Nyv",
        "outputId": "6bb95329-d325-4320-93b2-81a8bb607128"
      },
      "source": [
        "#Cross validation\r\n",
        "#test de plusieurs cross_val score moyen en fesant varier le nb de decoupage de 2 à 10\r\n",
        "for i in range(2,11):\r\n",
        "  print(i)\r\n",
        "  print(cross_val_score(svm.SVC(), x_train, y_train, cv=i, scoring=\"accuracy\").mean())"
      ],
      "execution_count": null,
      "outputs": [
        {
          "output_type": "stream",
          "text": [
            "2\n",
            "0.8476277372262774\n",
            "3\n",
            "0.8477291159772912\n",
            "4\n",
            "0.8480332522303325\n",
            "5\n",
            "0.8481346041746128\n",
            "6\n",
            "0.8482360097323601\n",
            "7\n",
            "0.8485401058328892\n",
            "8\n",
            "0.8483373884833738\n",
            "9\n",
            "0.8488442822384429\n",
            "10\n",
            "0.8488442038590931\n"
          ],
          "name": "stdout"
        }
      ]
    },
    {
      "cell_type": "markdown",
      "metadata": {
        "id": "wtX-h1-E0obt"
      },
      "source": [
        "Modèle qui ne charge pas avec grid alors nous avons testé avec une boucle"
      ]
    },
    {
      "cell_type": "code",
      "metadata": {
        "id": "6cSMupl05fls",
        "colab": {
          "base_uri": "https://localhost:8080/"
        },
        "outputId": "939173a3-5cd9-49e3-a198-d540891b3002"
      },
      "source": [
        "#On test le modèle svm avec le kernel 'poly' et sur les degrés variant de 1 à 4 et le c valant 1,10 et 100\r\n",
        "scores=[]\r\n",
        "for i in [1,10,100]:\r\n",
        "  print(\"C: \", i) #Affichage du C\r\n",
        "  for j in range(1,4):\r\n",
        "    SVM = svm.SVC(kernel= 'poly', C = i, degree=j)\r\n",
        "    SVM.fit(x_train, y_train)\r\n",
        "    print(\"degree: \", j) #Affichage du degre\r\n",
        "    print(SVM.score(x_test, y_test)) #Affichage du score du modèle\r\n",
        "    scores.append(SVM.score(x_test, y_test)) #Ajout du score dans une liste de score"
      ],
      "execution_count": null,
      "outputs": [
        {
          "output_type": "stream",
          "text": [
            "C:  1\n",
            "degree:  1\n",
            "0.8402270884022709\n",
            "degree:  2\n",
            "0.8394160583941606\n",
            "degree:  3\n",
            "0.8402270884022709\n",
            "C:  10\n",
            "degree:  1\n",
            "0.8669910786699108\n",
            "degree:  2\n",
            "0.8479318734793188\n",
            "degree:  3\n",
            "0.8418491484184915\n",
            "C:  100\n",
            "degree:  1\n",
            "0.8779399837793999\n",
            "degree:  2\n",
            "0.8556366585563666\n",
            "degree:  3\n",
            "0.843065693430657\n"
          ],
          "name": "stdout"
        }
      ]
    },
    {
      "cell_type": "code",
      "metadata": {
        "id": "mJI-aP7aY-JY"
      },
      "source": [
        "#On ajoute le model et son best score dans le dictionnaire des modèles\r\n",
        "models[\"SVM poly\"] = max(scores)"
      ],
      "execution_count": null,
      "outputs": []
    },
    {
      "cell_type": "code",
      "metadata": {
        "id": "VRAmCQwb2Eoa",
        "colab": {
          "base_uri": "https://localhost:8080/"
        },
        "outputId": "6b38bb99-2152-470f-f154-bb79b7d69908"
      },
      "source": [
        "#On test le modèle svm avec le kernel 'linear' et le c valant 1,10 et 100\r\n",
        "scores=[]\r\n",
        "for i in [1,10,100]:\r\n",
        "  print(\"C:\", i) #Affichage du C\r\n",
        "  SVM = svm.SVC(kernel= 'linear', C = i)\r\n",
        "  SVM.fit(x_train, y_train)\r\n",
        "  print(SVM.score(x_test, y_test)) #Affichage du score du modèle\r\n",
        "  scores.append(SVM.score(x_test, y_test)) #Ajout du score dans une liste de score"
      ],
      "execution_count": null,
      "outputs": [
        {
          "output_type": "stream",
          "text": [
            "C: 1\n",
            "0.8828061638280617\n",
            "C: 10\n",
            "0.884022708840227\n",
            "C: 100\n",
            "0.884022708840227\n"
          ],
          "name": "stdout"
        }
      ]
    },
    {
      "cell_type": "code",
      "metadata": {
        "id": "MSDD46rSIVYq"
      },
      "source": [
        "#On met dans le dictionnaire le modèle, ses best parametres et son best score\r\n",
        "models[\"SVM linear\"] = max(scores)"
      ],
      "execution_count": null,
      "outputs": []
    },
    {
      "cell_type": "code",
      "metadata": {
        "id": "vwMr2AJgp_Ql",
        "colab": {
          "base_uri": "https://localhost:8080/"
        },
        "outputId": "4c7bb86d-cde5-45e1-aaf4-06f6bc11614f"
      },
      "source": [
        "#Application du grid search \r\n",
        "param_grid ={'C': [1, 10, 100], 'gamma': [0.1, 0.01, 0.001], 'kernel': ['rbf']}\r\n",
        "grid = GridSearchCV(svm.SVC(), param_grid, cv=9)\r\n",
        "grid.fit(x_train, y_train)\r\n",
        "\r\n",
        "#Affichage du best score et des meilleures paramètres testés\r\n",
        "print(\"best score : \",grid.best_score_)\r\n",
        "print(\"best parameters : \",grid.best_params_)"
      ],
      "execution_count": null,
      "outputs": [
        {
          "output_type": "stream",
          "text": [
            "best score :  0.8685117599351176\n",
            "best parameters :  {'C': 1, 'gamma': 0.001, 'kernel': 'rbf'}\n"
          ],
          "name": "stdout"
        }
      ]
    },
    {
      "cell_type": "code",
      "metadata": {
        "id": "X31HMekSi1OC",
        "colab": {
          "base_uri": "https://localhost:8080/",
          "height": 305
        },
        "outputId": "ac8b17dd-7f54-4a50-83de-e3249df2cae6"
      },
      "source": [
        "#Plot des modèles testés en fonctions des hyperparamètres testés dans le modèle\r\n",
        "plot_grid_search(grid.cv_results_, param_grid[\"gamma\"], param_grid['C'], 'gamma', 'C')"
      ],
      "execution_count": null,
      "outputs": [
        {
          "output_type": "display_data",
          "data": {
            "image/png": "[encoded data removed]",
            "text/plain": [
              "<Figure size 432x288 with 1 Axes>"
            ]
          },
          "metadata": {
            "tags": [],
            "needs_background": "light"
          }
        }
      ]
    },
    {
      "cell_type": "markdown",
      "metadata": {
        "id": "ipZPTt09X1vM"
      },
      "source": [
        "On remarque que le modèle svm avec le kernel 'rbf' performe le mieux avec le C valant 1 et le gamma très proche de 0. Lorsque gamma augmente l'accuracy du modèle diminue très rapidement."
      ]
    },
    {
      "cell_type": "code",
      "metadata": {
        "id": "ZoMPyxztZHfZ"
      },
      "source": [
        "#On met dans le dictionnaire le modèle, ses best parametres et son best score\r\n",
        "model = \"SVM rbf \" + str(grid.best_params_)\r\n",
        "models[model] = grid.best_score_"
      ],
      "execution_count": null,
      "outputs": []
    },
    {
      "cell_type": "code",
      "metadata": {
        "id": "FG3lz1u-qDMV",
        "colab": {
          "base_uri": "https://localhost:8080/"
        },
        "outputId": "7e4c2f52-5cc5-495c-fc9c-81014d7cb3b1"
      },
      "source": [
        "#Application du grid search \r\n",
        "param_grid ={'C': [1, 10, 100], 'gamma': [0.1, 0.01, 0.001], 'kernel': ['sigmoid']}\r\n",
        "grid = GridSearchCV(svm.SVC(), param_grid, cv=9)\r\n",
        "grid.fit(x_train, y_train)\r\n",
        "\r\n",
        "#Affichage du best score et des meilleures paramètres testés\r\n",
        "print(\"best score : \",grid.best_score_)\r\n",
        "print(\"best parameters : \",grid.best_params_)"
      ],
      "execution_count": null,
      "outputs": [
        {
          "output_type": "stream",
          "text": [
            "best score :  0.7844687753446877\n",
            "best parameters :  {'C': 1, 'gamma': 0.1, 'kernel': 'sigmoid'}\n"
          ],
          "name": "stdout"
        }
      ]
    },
    {
      "cell_type": "code",
      "metadata": {
        "id": "m5_KcNqni2ll",
        "colab": {
          "base_uri": "https://localhost:8080/",
          "height": 305
        },
        "outputId": "411f3a21-d670-4123-fbf7-58d481d34ef0"
      },
      "source": [
        "#Plot des modèles testés en fonctions des hyperparamètres testés dans le modèle\r\n",
        "plot_grid_search(grid.cv_results_, param_grid[\"gamma\"], param_grid['C'], 'gamma', 'C')"
      ],
      "execution_count": null,
      "outputs": [
        {
          "output_type": "display_data",
          "data": {
            "image/png": "[encoded data removed]",
            "text/plain": [
              "<Figure size 432x288 with 1 Axes>"
            ]
          },
          "metadata": {
            "tags": [],
            "needs_background": "light"
          }
        }
      ]
    },
    {
      "cell_type": "markdown",
      "metadata": {
        "id": "GIVWGrFaYQFA"
      },
      "source": [
        "On remarque que le modèle svm avec le kernel 'sigmoid' performe le mieux, à contrario du modèle précédent, avec un gamma assez élevé et C valant 1."
      ]
    },
    {
      "cell_type": "code",
      "metadata": {
        "id": "RECRWv2RZKtH"
      },
      "source": [
        "#On met dans le dictionnaire le modèle, ses best parametres et son best score\r\n",
        "model = \"SVM sigmoid \" + str(grid.best_params_)\r\n",
        "models[model] = grid.best_score_"
      ],
      "execution_count": null,
      "outputs": []
    },
    {
      "cell_type": "markdown",
      "metadata": {
        "id": "i7ROK-36c8Aj"
      },
      "source": [
        "Parmi tout les types de svm testés c'est le SVM avec le kernel 'linear' qui obtient la meilleure accuracy cependant le temps d'éxecution du modèle est vraiment long, nous n'avons pas pu appliquer le grid search car il prenait vraiment trop de temps."
      ]
    },
    {
      "cell_type": "markdown",
      "metadata": {
        "id": "6P6N9UB1LvS8"
      },
      "source": [
        "### Gaussian Naive Bayes"
      ]
    },
    {
      "cell_type": "code",
      "metadata": {
        "id": "DerZb-GYLttn",
        "colab": {
          "base_uri": "https://localhost:8080/"
        },
        "outputId": "7616b972-c3cc-4b82-ae58-4c6c3bb91189"
      },
      "source": [
        "start_time = print_time()\r\n",
        "gnb = GaussianNB()\r\n",
        "gnb.fit(x_train, y_train)\r\n",
        "end_time = print_time()\r\n",
        "print (\"\\nDuration time :\", end_time - start_time)"
      ],
      "execution_count": null,
      "outputs": [
        {
          "output_type": "stream",
          "text": [
            "\n",
            "Duration time : 0.014777660369873047\n"
          ],
          "name": "stdout"
        }
      ]
    },
    {
      "cell_type": "code",
      "metadata": {
        "id": "clp4IapVL_oV",
        "colab": {
          "base_uri": "https://localhost:8080/"
        },
        "outputId": "dd6e3300-05ee-4706-f2e0-23b4ab04c1b2"
      },
      "source": [
        "gnb.score(x_test, y_test)"
      ],
      "execution_count": null,
      "outputs": [
        {
          "output_type": "execute_result",
          "data": {
            "text/plain": [
              "0.8365774533657745"
            ]
          },
          "metadata": {
            "tags": []
          },
          "execution_count": 58
        }
      ]
    },
    {
      "cell_type": "code",
      "metadata": {
        "id": "NE9I5Pcdzj8o",
        "colab": {
          "base_uri": "https://localhost:8080/"
        },
        "outputId": "fbf3e934-92a2-462c-fcad-3b0b98907118"
      },
      "source": [
        "#Cross validation\r\n",
        "#test de plusieurs cross_val score moyen en fesant varier le nb de decoupage de 2 à 10\r\n",
        "for i in range(2,11):\r\n",
        "  print(i)\r\n",
        "  print(cross_val_score(GaussianNB(), x_train, y_train, cv=i, scoring=\"accuracy\").mean())"
      ],
      "execution_count": null,
      "outputs": [
        {
          "output_type": "stream",
          "text": [
            "2\n",
            "0.8461070559610706\n",
            "3\n",
            "0.8474249797242498\n",
            "4\n",
            "0.8458029197080292\n",
            "5\n",
            "0.8469178740584093\n",
            "6\n",
            "0.8467153284671532\n",
            "7\n",
            "0.845905429202773\n",
            "8\n",
            "0.8471208434712085\n",
            "9\n",
            "0.8466139497161396\n",
            "10\n",
            "0.8463098372144163\n"
          ],
          "name": "stdout"
        }
      ]
    },
    {
      "cell_type": "code",
      "metadata": {
        "id": "be_6qAAlzKQP",
        "colab": {
          "base_uri": "https://localhost:8080/"
        },
        "outputId": "1f75c9b7-69eb-4e7f-860a-16f8929b90b0"
      },
      "source": [
        "#Application du grid search \r\n",
        "param_grid = {'var_smoothing': np.logspace(0,-9, num=100)}\r\n",
        "grid = GridSearchCV(GaussianNB(), param_grid, cv=5)\r\n",
        "grid.fit(x_train, y_train)\r\n",
        "\r\n",
        "#Affichage du best score et des meilleures paramètres testés\r\n",
        "print(\"best score : \",grid.best_score_)\r\n",
        "print(\"best parameters : \",grid.best_params_)"
      ],
      "execution_count": 33,
      "outputs": [
        {
          "output_type": "stream",
          "text": [
            "best score :  0.8614145939760807\n",
            "best parameters :  {'var_smoothing': 4.328761281083053e-06}\n"
          ],
          "name": "stdout"
        }
      ]
    },
    {
      "cell_type": "code",
      "metadata": {
        "id": "w5x8AiFlirJT",
        "colab": {
          "base_uri": "https://localhost:8080/",
          "height": 296
        },
        "outputId": "2fd400f7-0f2a-4a1a-c991-39a03bf1aadb"
      },
      "source": [
        "scores_mean = grid.cv_results_['mean_test_score']\r\n",
        "scores_mean = np.array(scores_mean)\r\n",
        "\r\n",
        "#Plot des modèles testés en fonctions des hyperparamètres testés dans le modèle\r\n",
        "plt.plot(param_grid['var_smoothing'], scores_mean, marker = '.')    \r\n",
        "plt.xlabel('var_smoothing')\r\n",
        "plt.ylabel(\"Mean CV Score\")\r\n",
        "plt.title(\"GaussianNB Performance Comparison\")\r\n",
        "plt.show()"
      ],
      "execution_count": null,
      "outputs": [
        {
          "output_type": "display_data",
          "data": {
            "image/png": "[encoded data removed]",
            "text/plain": [
              "<Figure size 432x288 with 1 Axes>"
            ]
          },
          "metadata": {
            "tags": [],
            "needs_background": "light"
          }
        }
      ]
    },
    {
      "cell_type": "markdown",
      "metadata": {
        "id": "DCa2POwmYo45"
      },
      "source": [
        "Le modèle GaussianNB a une meilleure accuracy lorsque le varsmoothing est très proche de 0."
      ]
    },
    {
      "cell_type": "code",
      "metadata": {
        "id": "RyCKcGWuZjWY"
      },
      "source": [
        "#On met dans le dictionnaire le modèle, ses best parametres et son best score\r\n",
        "model = \"GaussianNB \" + str(grid.best_params_)\r\n",
        "models[model] = grid.best_score_"
      ],
      "execution_count": null,
      "outputs": []
    },
    {
      "cell_type": "code",
      "metadata": {
        "id": "CFPIUcvazMGX",
        "colab": {
          "base_uri": "https://localhost:8080/"
        },
        "outputId": "c2f48519-36f6-441f-b61a-b0e38b317071"
      },
      "source": [
        "gnb=grid.best_estimator_\r\n",
        "gnb.score(x_test,y_test)"
      ],
      "execution_count": 34,
      "outputs": [
        {
          "output_type": "execute_result",
          "data": {
            "text/plain": [
              "0.8471208434712084"
            ]
          },
          "metadata": {
            "tags": []
          },
          "execution_count": 34
        }
      ]
    },
    {
      "cell_type": "code",
      "metadata": {
        "colab": {
          "base_uri": "https://localhost:8080/",
          "height": 295
        },
        "id": "f2Dfa2QPdUOd",
        "outputId": "e578dbc3-b80a-4a05-b1ff-dd6dbdca182e"
      },
      "source": [
        "y_pred = gnb.predict(x_test)\r\n",
        "\r\n",
        "#Matrice de confusion de la régression linéaire\r\n",
        "cf_matrix = confusion_matrix(y_test, y_pred)\r\n",
        "\r\n",
        "#Plot de la matrice de confusion\r\n",
        "ax = sns.heatmap(cf_matrix/np.sum(cf_matrix), annot=True, fmt='.2%')\r\n",
        "ax.set(title=\"Confusion matrix GaussianNB\", xlabel=\"Actual\", ylabel = \"Predicted\")\r\n",
        "plt.show()"
      ],
      "execution_count": 35,
      "outputs": [
        {
          "output_type": "display_data",
          "data": {
            "image/png": "[encoded data removed]",
            "text/plain": [
              "<Figure size 432x288 with 2 Axes>"
            ]
          },
          "metadata": {
            "tags": [],
            "needs_background": "light"
          }
        }
      ]
    },
    {
      "cell_type": "markdown",
      "metadata": {
        "id": "dJGq_M6pdPRx"
      },
      "source": [
        "Le modèle est assez performant, la moitié des 1 sont bien prédits, comparé aux knn, svm et logistic regression qui prédisaient tout trois pas assez bien les 1. Ce modèle arrive donc à assez bien prédire bien les 1 malgré le fait qu'il y a peu de 1 dans la df."
      ]
    },
    {
      "cell_type": "markdown",
      "metadata": {
        "id": "kTZXV1qVVtyl"
      },
      "source": [
        "# 5) Best model"
      ]
    },
    {
      "cell_type": "code",
      "metadata": {
        "id": "CYuT8wi3Vslg",
        "colab": {
          "base_uri": "https://localhost:8080/"
        },
        "outputId": "95a08bfd-35fe-44bf-e6c0-71e266a45e56"
      },
      "source": [
        "#Selectionnons désormais le modèle le plus performant \r\n",
        "\r\n",
        "best_model=\"\"\r\n",
        "best_accuracy = 0\r\n",
        "\r\n",
        "#Parcours du dictionnaire contenant tout les modèles testés\r\n",
        "for key, val in models.items():\r\n",
        "  if val > best_accuracy:\r\n",
        "    best_model = key #selection du best modèle avec ses meilleurs paramètres\r\n",
        "    best_accuracy = val #selection de la meilleur accuracy\r\n",
        "\r\n",
        "#Affichage du best score et des meilleures paramètres du meilleur modèle\r\n",
        "print(\"best_model \", best_model)\r\n",
        "print(\"accuracy \", best_accuracy)"
      ],
      "execution_count": null,
      "outputs": [
        {
          "output_type": "stream",
          "text": [
            "best_model  Decision tree {'criterion': 'gini', 'max_depth': 4}\n",
            "accuracy  0.9022706127035466\n"
          ],
          "name": "stdout"
        }
      ]
    },
    {
      "cell_type": "markdown",
      "metadata": {
        "id": "ymjyA2QEZUyZ"
      },
      "source": [
        "On en conclue que le meilleur modèle parmi tout les modèles de classification testés est le decision tree avec les paramètres 'criterion':\"gini\" et 'max_depth':4."
      ]
    },
    {
      "cell_type": "code",
      "metadata": {
        "colab": {
          "base_uri": "https://localhost:8080/"
        },
        "id": "7aSRtsqJZ5l2",
        "outputId": "043bff9e-b998-438f-cae9-6a3ea06edb0c"
      },
      "source": [
        "#Application du meilleur modèle avec les meilleurs paramètres testés\r\n",
        "start_time = print_time()\r\n",
        "Dtree = tree.DecisionTreeClassifier(criterion= 'gini', max_depth= 4)\r\n",
        "Dtree.fit(x_train, y_train)\r\n",
        "end_time = print_time()\r\n",
        "\r\n",
        "print(Dtree.score(x_test, y_test))\r\n",
        "print (\"\\nDuration time :\", end_time - start_time)"
      ],
      "execution_count": null,
      "outputs": [
        {
          "output_type": "stream",
          "text": [
            "0.8917274939172749\n",
            "\n",
            "Duration time : 0.03666353225708008\n"
          ],
          "name": "stdout"
        }
      ]
    },
    {
      "cell_type": "markdown",
      "metadata": {
        "id": "2wwvEwjWba6E"
      },
      "source": [
        "Exportons le meilleur modèle afin de creer notre api sur ce modèle"
      ]
    },
    {
      "cell_type": "code",
      "metadata": {
        "id": "gEDHFwC34Z-k"
      },
      "source": [
        "#joblib.dump(Dtree, 'model.pkl')"
      ],
      "execution_count": null,
      "outputs": []
    }
  ]
}